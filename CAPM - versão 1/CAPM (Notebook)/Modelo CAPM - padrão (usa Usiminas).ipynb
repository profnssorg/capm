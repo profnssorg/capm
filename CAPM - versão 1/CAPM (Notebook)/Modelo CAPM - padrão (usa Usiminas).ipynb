{
 "cells": [
  {
   "cell_type": "code",
   "execution_count": 23,
   "metadata": {},
   "outputs": [],
   "source": [
    "# Importando Pandas, Statsmodels, Matplotlib e NumPy\n",
    "\n",
    "import pandas as pd\n",
    "import statsmodels.api as sm\n",
    "import matplotlib as mt\n",
    "import matplotlib.pyplot as plot\n",
    "import numpy as np"
   ]
  },
  {
   "cell_type": "code",
   "execution_count": 24,
   "metadata": {},
   "outputs": [],
   "source": [
    "# Inicialização #modificar\n",
    "\n",
    "IBOVESPA = float(0)\n",
    "USI = float(0)\n",
    "preco_mensal = float(0)\n",
    "retorno_mensal = float(0)\n",
    "retorno_mensal_l = float(0)\n",
    "Y_BB = float(0)\n",
    "X_IBOV = float(0)\n",
    "Xa = float(0)\n",
    "CAPM = float(0)\n",
    "CAPM_r = float(0)"
   ]
  },
  {
   "cell_type": "code",
   "execution_count": 25,
   "metadata": {},
   "outputs": [
    {
     "name": "stdout",
     "output_type": "stream",
     "text": [
      "               Open     High      Low    Close  Adj Close  Volume\n",
      "Date                                                             \n",
      "2000-01-03  17098.0  17408.0  16719.0  16930.0    16930.0     0.0\n",
      "2000-01-04  16908.0  16908.0  15851.0  15851.0    15851.0     0.0\n",
      "2000-01-05  15871.0  16302.0  15350.0  16245.0    16245.0     0.0\n",
      "2000-01-06  16237.0  16499.0  15977.0  16107.0    16107.0     0.0\n",
      "2000-01-07  16125.0  16449.0  16125.0  16309.0    16309.0     0.0\n"
     ]
    }
   ],
   "source": [
    "# Lendo dados\n",
    "\n",
    "IBOVESPA = pd.read_csv('^BVSP.csv', parse_dates = True, index_col = 'Date')\n",
    "USI = pd.read_csv('USIM5.SA.csv',parse_dates = True, index_col = 'Date')\n",
    "print(IBOVESPA.head())"
   ]
  },
  {
   "cell_type": "code",
   "execution_count": 26,
   "metadata": {},
   "outputs": [
    {
     "name": "stdout",
     "output_type": "stream",
     "text": [
      "            USIMINAS  IBOVESPA\n",
      "Date                          \n",
      "2000-01-03   2.13333   16930.0\n",
      "2000-01-04   2.05556   15851.0\n",
      "2000-01-05   2.25111   16245.0\n",
      "2000-01-06   2.45556   16107.0\n",
      "2000-01-07   2.55333   16309.0\n"
     ]
    }
   ],
   "source": [
    "# Preços de fechamento \n",
    "\n",
    "preco_mensal = pd.concat([USI['Close'], IBOVESPA['Close']], axis=1)\n",
    "preco_mensal.columns = ['USIMINAS', 'IBOVESPA']\n",
    "print(preco_mensal.head())"
   ]
  },
  {
   "cell_type": "code",
   "execution_count": 27,
   "metadata": {},
   "outputs": [
    {
     "name": "stdout",
     "output_type": "stream",
     "text": [
      "            USIMINAS  IBOVESPA\n",
      "Date                          \n",
      "2000-01-04 -0.036455 -0.063733\n",
      "2000-01-05  0.095132  0.024856\n",
      "2000-01-06  0.090822 -0.008495\n",
      "2000-01-07  0.039816  0.012541\n",
      "2000-01-10  0.103571  0.043718\n"
     ]
    }
   ],
   "source": [
    "# Retornos mensais\n",
    "\n",
    "retorno_mensal = preco_mensal.pct_change(1) #ver log em numpy\n",
    "retorno_mensal_l = retorno_mensal.dropna(axis=0)\n",
    "print(retorno_mensal_l.head())"
   ]
  },
  {
   "cell_type": "code",
   "execution_count": 28,
   "metadata": {},
   "outputs": [
    {
     "name": "stdout",
     "output_type": "stream",
     "text": [
      "Date\n",
      "2000-01-04   -0.036455\n",
      "2000-01-05    0.095132\n",
      "2000-01-06    0.090822\n",
      "2000-01-07    0.039816\n",
      "2000-01-10    0.103571\n",
      "Name: USIMINAS, dtype: float64 Date\n",
      "2000-01-04   -0.063733\n",
      "2000-01-05    0.024856\n",
      "2000-01-06   -0.008495\n",
      "2000-01-07    0.012541\n",
      "2000-01-10    0.043718\n",
      "Name: IBOVESPA, dtype: float64\n"
     ]
    }
   ],
   "source": [
    "# Definindo variáveis\n",
    "\n",
    "Y_USI = retorno_mensal_l['USIMINAS']\n",
    "X_IBOV = retorno_mensal_l['IBOVESPA']\n",
    "print(Y_USI.head(),X_IBOV.head())\n",
    "\n",
    "Xa = sm.tools.add_constant(X_IBOV)"
   ]
  },
  {
   "cell_type": "code",
   "execution_count": 29,
   "metadata": {},
   "outputs": [
    {
     "name": "stdout",
     "output_type": "stream",
     "text": [
      "                            OLS Regression Results                            \n",
      "==============================================================================\n",
      "Dep. Variable:               USIMINAS   R-squared:                       0.384\n",
      "Model:                            OLS   Adj. R-squared:                  0.384\n",
      "Method:                 Least Squares   F-statistic:                     2984.\n",
      "Date:                Mon, 22 Apr 2019   Prob (F-statistic):               0.00\n",
      "Time:                        19:31:18   Log-Likelihood:                 10598.\n",
      "No. Observations:                4785   AIC:                        -2.119e+04\n",
      "Df Residuals:                    4783   BIC:                        -2.118e+04\n",
      "Df Model:                           1                                         \n",
      "Covariance Type:            nonrobust                                         \n",
      "==============================================================================\n",
      "                 coef    std err          t      P>|t|      [0.025      0.975]\n",
      "------------------------------------------------------------------------------\n",
      "const          0.0003      0.000      0.718      0.473      -0.000       0.001\n",
      "IBOVESPA       1.1876      0.022     54.624      0.000       1.145       1.230\n",
      "==============================================================================\n",
      "Omnibus:                     1293.921   Durbin-Watson:                   1.887\n",
      "Prob(Omnibus):                  0.000   Jarque-Bera (JB):            17211.860\n",
      "Skew:                           0.914   Prob(JB):                         0.00\n",
      "Kurtosis:                      12.110   Cond. No.                         56.9\n",
      "==============================================================================\n",
      "\n",
      "Warnings:\n",
      "[1] Standard Errors assume that the covariance matrix of the errors is correctly specified.\n"
     ]
    }
   ],
   "source": [
    "# Modelo\n",
    "\n",
    "CAPM = sm.OLS(Y_USI,Xa)\n",
    "CAPM_r = CAPM.fit()\n",
    "print(CAPM_r.summary())\n",
    "\n",
    "Res = CAPM_r.resid"
   ]
  },
  {
   "cell_type": "code",
   "execution_count": 36,
   "metadata": {
    "scrolled": true
   },
   "outputs": [
    {
     "data": {
      "image/png": "[encoded data removed]",
      "text/plain": [
       "<Figure size 432x288 with 1 Axes>"
      ]
     },
     "metadata": {
      "needs_background": "light"
     },
     "output_type": "display_data"
    }
   ],
   "source": [
    "# Autocorrelograma \n",
    "\n",
    "plot.acorr(Res, maxlags=9)\n",
    "\n",
    "plot.title('Autocorrelação dos resíduos de Usiminas')\n",
    "plot.xlabel('Lag')\n",
    "plot.ylabel('Autocorrelação')\n",
    "\n",
    "plot.show()"
   ]
  },
  {
   "cell_type": "code",
   "execution_count": 30,
   "metadata": {
    "scrolled": true
   },
   "outputs": [
    {
     "name": "stdout",
     "output_type": "stream",
     "text": [
      "(array([15.17052573, 17.01634147, 25.03143133, 26.55193747, 27.97486566,\n",
      "       30.11797037, 30.19595282, 33.71133485, 34.73707672, 35.36082921,\n",
      "       35.36410869, 35.46736646, 35.7817865 , 35.91564201, 36.02180776,\n",
      "       36.38436262, 37.44729852, 43.51639139, 51.85723193, 53.76461576,\n",
      "       54.38493956, 59.9891568 , 68.04626256, 68.60809089, 68.6465679 ,\n",
      "       69.34939218, 70.86140905, 70.87285178, 70.92491275, 78.26410913,\n",
      "       79.50784055, 91.61070993, 91.72816124, 91.95133987, 93.9580143 ,\n",
      "       93.97123594, 94.213003  , 94.69104037, 94.84072815, 96.27478154]), array([9.82246986e-05, 2.01812656e-04, 1.52086042e-05, 2.44864386e-05,\n",
      "       3.68128707e-05, 3.73295537e-05, 8.74133236e-05, 4.58218059e-05,\n",
      "       6.62923200e-05, 1.08339616e-04, 2.15753929e-04, 3.94402869e-04,\n",
      "       6.41415707e-04, 1.07422178e-03, 1.75504310e-03, 2.55805309e-03,\n",
      "       2.92553457e-03, 6.76124840e-04, 6.94964772e-05, 6.26831833e-05,\n",
      "       8.68534764e-05, 2.24314799e-05, 2.42653381e-06, 3.54559904e-06,\n",
      "       6.10062006e-06, 8.24755798e-06, 8.44538724e-06, 1.40407260e-05,\n",
      "       2.26335403e-05, 3.49913041e-06, 3.88638053e-06, 1.17562899e-07,\n",
      "       1.95715257e-07, 3.10173552e-07, 2.70363612e-07, 4.51202648e-07,\n",
      "       6.90256924e-07, 9.69069010e-07, 1.49360748e-06, 1.53316925e-06]))\n"
     ]
    }
   ],
   "source": [
    "# Teste Ljung-Box de Autocorrelação de Resíduos\n",
    "\n",
    "LJ = sm.stats.diagnostic.acorr_ljungbox(Res)\n",
    "print(LJ)"
   ]
  },
  {
   "cell_type": "code",
   "execution_count": 31,
   "metadata": {},
   "outputs": [
    {
     "name": "stdout",
     "output_type": "stream",
     "text": [
      "(10.288130845857351, 0.0013388864768562267, 10.305989384120394, 0.0013347603709862607)\n"
     ]
    }
   ],
   "source": [
    "# Teste Breusch-Pagan de Heteroscedasticidade\n",
    "\n",
    "BP = sm.stats.diagnostic.het_breuschpagan(Res,Xa)\n",
    "print(BP)"
   ]
  }
 ],
 "metadata": {
  "kernelspec": {
   "display_name": "Python 3",
   "language": "python",
   "name": "python3"
  },
  "language_info": {
   "codemirror_mode": {
    "name": "ipython",
    "version": 3
   },
   "file_extension": ".py",
   "mimetype": "text/x-python",
   "name": "python",
   "nbconvert_exporter": "python",
   "pygments_lexer": "ipython3",
   "version": "3.7.1"
  }
 },
 "nbformat": 4,
 "nbformat_minor": 2
}
