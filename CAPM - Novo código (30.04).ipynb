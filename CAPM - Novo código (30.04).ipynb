{
 "cells": [
  {
   "cell_type": "markdown",
   "metadata": {},
   "source": [
    "# Implementação computacional de um CAPM (Sharpe, 1964)"
   ]
  },
  {
   "cell_type": "markdown",
   "metadata": {},
   "source": [
    "O primeiro passo para a implementação computacional do Capital Asset Pricing Model, de William F. Sharpe (1964), é a importação de uma série de pacotes que serão utilizados durante o processo. Importaremos os seguintes pacotes: Pandas, Matplotlib, NumPy, YahooFinancials (1.5) e o StatsModels."
   ]
  },
  {
   "cell_type": "code",
   "execution_count": 131,
   "metadata": {},
   "outputs": [],
   "source": [
    "# Importação dos pacotes\n",
    "\n",
    "import quandl as qd\n",
    "import pandas as pd\n",
    "import matplotlib.pyplot as plot\n",
    "import numpy as np\n",
    "from yahoofinancials import YahooFinancials\n",
    "import statsmodels.api as sm\n",
    "\n",
    "##import quandl as qd"
   ]
  },
  {
   "cell_type": "markdown",
   "metadata": {},
   "source": [
    "Iremos inicialmente definir duas variáveis de nosso interesse: a ação desejada (em nosso caso, a USIM5.SA) e a Taxa de Retorno do Mercado (em nosso caso, a Ibovespa). Cada variável conterá o nome do seu respectivo ticker de acordo com a plataforma Yahoo Finance. Essas variáveis serão utilizadas posteriormente para a captura de suas respectivas séries históricas utilizando o YahooFinancials."
   ]
  },
  {
   "cell_type": "code",
   "execution_count": 132,
   "metadata": {},
   "outputs": [],
   "source": [
    "# Definindo variáveis\n",
    "\n",
    "USI = ['USIM5.SA']\n",
    "IBOV = ['^BVSP']"
   ]
  },
  {
   "cell_type": "markdown",
   "metadata": {},
   "source": [
    "Definiremos agora três novas variáveis que funcionarão como parâmetros para a função de captura das séries históricas de nosso interesse. O primeiro parâmetro (start_date) é a data de início da série histórica desejada. Seguindo a lógica, o segundo parâmetro (end_date) marca a data final da série histórica. A última variável (period) marca a frequência desejada de captura de valores."
   ]
  },
  {
   "cell_type": "code",
   "execution_count": 133,
   "metadata": {},
   "outputs": [],
   "source": [
    "# Definindo parâmetros\n",
    "\n",
    "start_date = '2000-01-01'  \n",
    "end_date = '2018-12-31' \n",
    "period = 'daily'  "
   ]
  },
  {
   "cell_type": "markdown",
   "metadata": {},
   "source": [
    "Agora utilizaremos propriamente o pacote YahooFinancials. Definiremos, em um primeiro momento, duas novas variáveis (IBOV_YF e USI_YF) que \"chamarão\" o pacote utilizando as variáveis definidas anteriormente. \n",
    "\n",
    "Na sequência, definiremos outras duas variáveis (IBOV_hist e USI_hist) que utilizarão uma função específica do pacote (get_historical_price_data) para realizar a captura dos preços históricos das nossas variáveis utilizando os parâmetros definidos anteriormente (start_date, end_date e period)."
   ]
  },
  {
   "cell_type": "code",
   "execution_count": 134,
   "metadata": {},
   "outputs": [],
   "source": [
    "# Definindo novas variáveis e capturando histórico de preços\n",
    "\n",
    "IBOV_YF = YahooFinancials(IBOV)\n",
    "USI_YF = YahooFinancials(USI)\n",
    "\n",
    "IBOV_hist = IBOV_YF.get_historical_price_data(start_date, end_date, period)\n",
    "USI_hist = USI_YF.get_historical_price_data(start_date, end_date, period)"
   ]
  },
  {
   "cell_type": "markdown",
   "metadata": {},
   "source": [
    "Temos agora, nessas duas novas variáveis, uma série de dados sobre os preços diários da USIM5.SA e da Ibovespa. Contudo, o pacote YahooFinancials provê essas informações no formato JSON. Para podermos trabalhar com os valores obtidos, teremos de transformar os dados de JSON para DataFrame. Para tanto, utilizaremos o pacote Pandas importado no início do processo.\n",
    "\n",
    "Duas novas variáveis (IBOV_df1 e USI_df1) serão definidas a partir do recurso DataFrame do pacote Pandas e das variáveis IBOV_hist e USI_hist (estas que contém as variáveis que desejamos). "
   ]
  },
  {
   "cell_type": "code",
   "execution_count": 135,
   "metadata": {},
   "outputs": [],
   "source": [
    "# Utilizando a função DataFrame do pacote Pandas\n",
    "\n",
    "IBOV_df1 = pd.DataFrame(IBOV_hist['^BVSP']['prices'])\n",
    "USI_df1 = pd.DataFrame(USI_hist['USIM5.SA']['prices'])"
   ]
  },
  {
   "cell_type": "markdown",
   "metadata": {},
   "source": [
    "Podemos verificar como nossas novas variáveis estão printando-as:"
   ]
  },
  {
   "cell_type": "code",
   "execution_count": 136,
   "metadata": {},
   "outputs": [
    {
     "name": "stdout",
     "output_type": "stream",
     "text": [
      "   adjclose    close       date formatted_date     high      low     open  \\\n",
      "0   16930.0  16930.0  946900800     2000-01-03  17408.0  16719.0  17098.0   \n",
      "1   15851.0  15851.0  946987200     2000-01-04  16908.0  15851.0  16908.0   \n",
      "2   16245.0  16245.0  947073600     2000-01-05  16302.0  15350.0  15871.0   \n",
      "3   16107.0  16107.0  947160000     2000-01-06  16499.0  15977.0  16237.0   \n",
      "4   16309.0  16309.0  947246400     2000-01-07  16449.0  16125.0  16125.0   \n",
      "\n",
      "   volume  \n",
      "0     0.0  \n",
      "1     0.0  \n",
      "2     0.0  \n",
      "3     0.0  \n",
      "4     0.0  \n",
      "   adjclose    close       date formatted_date     high      low     open  \\\n",
      "0  1.884573  2.13333  946900800     2000-01-03  2.18000  2.12222  2.17778   \n",
      "1  1.815871  2.05556  946987200     2000-01-04  2.11111  2.05556  2.11111   \n",
      "2  1.988619  2.25111  947073600     2000-01-05  2.25556  2.05556  2.06667   \n",
      "3  2.169229  2.45556  947160000     2000-01-06  2.45556  2.22222  2.22222   \n",
      "4  2.255598  2.55333  947246400     2000-01-07  2.57778  2.44444  2.45556   \n",
      "\n",
      "      volume  \n",
      "0   571500.0  \n",
      "1  1121400.0  \n",
      "2  1602450.0  \n",
      "3  3084300.0  \n",
      "4  2871000.0  \n"
     ]
    }
   ],
   "source": [
    "# Printando as variáveis\n",
    "\n",
    "print(IBOV_df1.head())\n",
    "print(USI_df1.head())"
   ]
  },
  {
   "cell_type": "markdown",
   "metadata": {},
   "source": [
    "Agora iremos criar duas variáveis (IBOV_df2 e USI_df2) utilizando apenas a coluna de nosso interesse de ambas as variáveis: a coluna \"adjclose\". Utilizaremos a função Concat do Pandas para tanto. Ainda, definiremos o eixo em 1."
   ]
  },
  {
   "cell_type": "code",
   "execution_count": 137,
   "metadata": {},
   "outputs": [],
   "source": [
    "# Utilizando o Pandas para definir novas variáveis contendo os preços de fechamento\n",
    "\n",
    "IBOV_df2 = pd.concat([IBOV_df1['adjclose']], axis = 1)\n",
    "USI_df2 = pd.concat([USI_df1['adjclose']], axis = 1)"
   ]
  },
  {
   "cell_type": "markdown",
   "metadata": {},
   "source": [
    "Novamente, podemos verificar nosso trabalho printando as novas variáveis:"
   ]
  },
  {
   "cell_type": "code",
   "execution_count": 138,
   "metadata": {},
   "outputs": [
    {
     "name": "stdout",
     "output_type": "stream",
     "text": [
      "   adjclose\n",
      "0   16930.0\n",
      "1   15851.0\n",
      "2   16245.0\n",
      "3   16107.0\n",
      "4   16309.0\n",
      "   adjclose\n",
      "0  1.884573\n",
      "1  1.815871\n",
      "2  1.988619\n",
      "3  2.169229\n",
      "4  2.255598\n"
     ]
    }
   ],
   "source": [
    "# Printando as variáveis \n",
    "\n",
    "print(IBOV_df2.head())\n",
    "print(USI_df2.head())"
   ]
  },
  {
   "cell_type": "markdown",
   "metadata": {},
   "source": [
    "Até agora tudo está conforme gostaríamos.\n",
    "\n",
    "O próximo passo é calcular a variação diária das variáveis. Utilizaremos a função \"pct_change\" do pacote Pandas para obtermos a variação diária de ambas as variáveis (variável \"retorno_mensal\") e excluiremos a primeira linha dessa variável utilizando o \"dropna\".\n",
    "\n",
    "Também podemos printar ambas as variáveis para conferência."
   ]
  },
  {
   "cell_type": "code",
   "execution_count": 139,
   "metadata": {},
   "outputs": [
    {
     "name": "stdout",
     "output_type": "stream",
     "text": [
      "   adjclose\n",
      "1 -0.063733\n",
      "2  0.024856\n",
      "3 -0.008495\n",
      "4  0.012541\n",
      "5  0.043718\n",
      "   adjclose\n",
      "1 -0.036455\n",
      "2  0.095132\n",
      "3  0.090821\n",
      "4  0.039816\n",
      "5  0.103571\n"
     ]
    }
   ],
   "source": [
    "# Calculando a variação diária das variáveis\n",
    "\n",
    "IBOV_retorno_diario = IBOV_df2.pct_change(1) \n",
    "IBOV_retorno_diario_l = IBOV_retorno_diario.dropna(axis=0)\n",
    "\n",
    "USI_retorno_diario = USI_df2.pct_change(1) \n",
    "USI_retorno_diario_l = USI_retorno_diario.dropna(axis=0)\n",
    "\n",
    "print(IBOV_retorno_diario_l.head())\n",
    "print(USI_retorno_diario_l.head())"
   ]
  },
  {
   "cell_type": "markdown",
   "metadata": {},
   "source": [
    "Finalmente, poderemos realizar a regressão por MQO das variáveis visando encontrar o Beta de mercado utilizando o pacote StatsModels.\n",
    "\n",
    "Definiremos os retornos diários da USIM5.S.A como Y_USI (variável dependente) e os retornos diários do Ibovespa como X_IBOV (variavel independente). Ainda, adicionaremos uma constante de regressão (Alfa de Jensen) à variável independente, que será estatisticamente testada."
   ]
  },
  {
   "cell_type": "code",
   "execution_count": 140,
   "metadata": {},
   "outputs": [],
   "source": [
    "# Definindo variável dependente e independente\n",
    "\n",
    "Y_USI = USI_retorno_diario_l\n",
    "X_IBOV = IBOV_retorno_diario_l\n",
    "\n",
    "Xa = sm.tools.add_constant(X_IBOV)"
   ]
  },
  {
   "cell_type": "markdown",
   "metadata": {},
   "source": [
    "Definiremos uma nova variável chamada CAPM. Essa variável será a responsável pela regressão por MQO entre a variável dependente e independente definidas anteriormente. A regressão será feita pela função OLS do pacote StatsModels. O resultado da regressão, bem como os principais testes, serão apresentados atráves do print da função Summary. \n",
    "\n"
   ]
  },
  {
   "cell_type": "code",
   "execution_count": 141,
   "metadata": {},
   "outputs": [
    {
     "name": "stdout",
     "output_type": "stream",
     "text": [
      "                            OLS Regression Results                            \n",
      "==============================================================================\n",
      "Dep. Variable:               adjclose   R-squared:                       0.384\n",
      "Model:                            OLS   Adj. R-squared:                  0.384\n",
      "Method:                 Least Squares   F-statistic:                     2985.\n",
      "Date:                Mon, 29 Apr 2019   Prob (F-statistic):               0.00\n",
      "Time:                        21:22:21   Log-Likelihood:                 10598.\n",
      "No. Observations:                4785   AIC:                        -2.119e+04\n",
      "Df Residuals:                    4783   BIC:                        -2.118e+04\n",
      "Df Model:                           1                                         \n",
      "Covariance Type:            nonrobust                                         \n",
      "==============================================================================\n",
      "                 coef    std err          t      P>|t|      [0.025      0.975]\n",
      "------------------------------------------------------------------------------\n",
      "const          0.0003      0.000      0.777      0.437      -0.000       0.001\n",
      "adjclose       1.1878      0.022     54.632      0.000       1.145       1.230\n",
      "==============================================================================\n",
      "Omnibus:                     1292.476   Durbin-Watson:                   1.887\n",
      "Prob(Omnibus):                  0.000   Jarque-Bera (JB):            17181.296\n",
      "Skew:                           0.913   Prob(JB):                         0.00\n",
      "Kurtosis:                      12.102   Cond. No.                         56.9\n",
      "==============================================================================\n",
      "\n",
      "Warnings:\n",
      "[1] Standard Errors assume that the covariance matrix of the errors is correctly specified.\n"
     ]
    }
   ],
   "source": [
    "# Regredindo as variáveis\n",
    "\n",
    "CAPM = sm.OLS(Y_USI,Xa)\n",
    "CAPM_r = CAPM.fit()\n",
    "print(CAPM_r.summary())"
   ]
  },
  {
   "cell_type": "markdown",
   "metadata": {},
   "source": [
    "O sumário da regressão apresenta alguns resultados importância sobre a significância estatística do modelo, tais como: R-quadrado padrão e ajustado, a estatística F e sua probabilidade, os valores de Alfa e Beta e seus respectivos desvios padrões e estatísticas t (além de seus p-valores)e os testes de Durbin-Watson e Jarque-Bera.\n",
    "\n",
    "Contudo, alguns testes adicionais são bem-vindos para verificar a significância do modelo. Esses testes fazem uso dos resíduos da regressão, que podem ser obtidos através da função Resid do StatsModels. Definiremos então uma nova variável \"Res\" contendo os resíduos de interesse."
   ]
  },
  {
   "cell_type": "code",
   "execution_count": 142,
   "metadata": {},
   "outputs": [],
   "source": [
    "# Obtendo os resíduos do modelo\n",
    "\n",
    "Res = CAPM_r.resid"
   ]
  },
  {
   "cell_type": "markdown",
   "metadata": {},
   "source": [
    "O primeiro passo interessante é plotar um Autocorrelograma dos resíduos da regressão. Faremos isso utilizando o pacote Matplotlib:"
   ]
  },
  {
   "cell_type": "code",
   "execution_count": 143,
   "metadata": {},
   "outputs": [
    {
     "data": {
      "image/png": "[encoded data removed]",
      "text/plain": [
       "<Figure size 432x288 with 1 Axes>"
      ]
     },
     "metadata": {
      "needs_background": "light"
     },
     "output_type": "display_data"
    }
   ],
   "source": [
    "# Plotando um Autocorrelograma dos Resíduos da regressão\n",
    "\n",
    "plot.acorr(Res, maxlags=9)\n",
    "\n",
    "plot.title('Autocorrelação dos resíduos de Usiminas')\n",
    "plot.xlabel('Lag')\n",
    "plot.ylabel('Autocorrelação')\n",
    "\n",
    "plot.show()"
   ]
  },
  {
   "cell_type": "markdown",
   "metadata": {},
   "source": [
    "Também podemos utilizar o pacote StatsModels para testarmos a autocorrelação dos resíduos da regressão obtida através do Teste de Ljung-Box. "
   ]
  },
  {
   "cell_type": "code",
   "execution_count": 144,
   "metadata": {},
   "outputs": [
    {
     "name": "stdout",
     "output_type": "stream",
     "text": [
      "(array([15.25141534, 17.06005523, 25.22396724, 26.68057665, 28.08301407,\n",
      "       30.22167815, 30.297831  , 33.8625038 , 34.90582117, 35.53408292,\n",
      "       35.53501412, 35.63803712, 35.96740294, 36.10474055, 36.25931129,\n",
      "       36.60906503, 37.73253554, 43.97584799, 52.35283067, 54.38281606,\n",
      "       55.08386162, 60.74981326, 68.94530332, 69.4991444 , 69.53788252,\n",
      "       70.20786841, 71.58268886, 71.60807914, 71.66868715, 78.80672474,\n",
      "       80.04471544, 91.83851167, 91.9649328 , 92.16699869, 94.02173461,\n",
      "       94.02617655, 94.19038649, 94.6795769 , 94.81478333, 96.12132288]), array([9.41062094e-05, 1.97449517e-04, 1.38619946e-05, 2.30645124e-05,\n",
      "       3.50636132e-05, 3.56715748e-05, 8.37269026e-05, 4.30243087e-05,\n",
      "       6.19058680e-05, 1.01187673e-04, 2.02146369e-04, 3.70356164e-04,\n",
      "       6.00297560e-04, 1.00641806e-03, 1.62167385e-03, 2.37955448e-03,\n",
      "       2.67442086e-03, 5.81503469e-04, 5.85761441e-05, 5.07506735e-05,\n",
      "       6.87300614e-05, 1.72987996e-05, 1.76746255e-06, 2.60312458e-06,\n",
      "       4.50567633e-06, 6.18771228e-06, 6.65047998e-06, 1.10590584e-05,\n",
      "       1.78635241e-05, 2.92851708e-06, 3.26471060e-06, 1.08768136e-07,\n",
      "       1.80734753e-07, 2.88774039e-07, 2.64742721e-07, 4.43226327e-07,\n",
      "       6.95269624e-07, 9.72583311e-07, 1.50570863e-06, 1.60753152e-06]))\n"
     ]
    }
   ],
   "source": [
    "# Teste Ljung-Box de Autocorrelação de Resíduos\n",
    "\n",
    "LJ = sm.stats.diagnostic.acorr_ljungbox(Res)\n",
    "print(LJ)"
   ]
  },
  {
   "cell_type": "markdown",
   "metadata": {},
   "source": [
    "Por fim, podemos detectar a presença de heteroscedasticidade no modelo através do Teste de Breusch-Pagan. O pacote StatsModels também permite realizar o teste:"
   ]
  },
  {
   "cell_type": "code",
   "execution_count": 145,
   "metadata": {},
   "outputs": [
    {
     "name": "stdout",
     "output_type": "stream",
     "text": [
      "(10.271932971386887, 0.001350692177024193, 10.289728485567348, 0.0013465485033298263)\n"
     ]
    }
   ],
   "source": [
    "# Teste Breusch-Pagan de Heteroscedasticidade\n",
    "\n",
    "BP = sm.stats.diagnostic.het_breuschpagan(Res,Xa)\n",
    "print(BP)"
   ]
  },
  {
   "cell_type": "code",
   "execution_count": null,
   "metadata": {},
   "outputs": [],
   "source": []
  }
 ],
 "metadata": {
  "kernelspec": {
   "display_name": "Python 3",
   "language": "python",
   "name": "python3"
  },
  "language_info": {
   "codemirror_mode": {
    "name": "ipython",
    "version": 3
   },
   "file_extension": ".py",
   "mimetype": "text/x-python",
   "name": "python",
   "nbconvert_exporter": "python",
   "pygments_lexer": "ipython3",
   "version": "3.7.1"
  }
 },
 "nbformat": 4,
 "nbformat_minor": 2
}
